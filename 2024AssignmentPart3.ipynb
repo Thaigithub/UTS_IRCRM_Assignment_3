{
 "cells": [
  {
   "cell_type": "markdown",
   "metadata": {},
   "source": [
    "<h1 style=\"font-family:Impact,Arial;font-size:30px;\">37004 Interest Rates and Credit Risk Models - Spring 2024</h1>\n",
    "<h1 style=\"font-family:Impact,Arial;font-size:45px;\">Assignment Part 3</h1>\n",
    "<h2 style=\"font-family:Arial;\">Erik Schl&ouml;gl</h2>\n",
    "<p><small> School of Mathematical &amp; Physical Sciences<br>\n",
    "University of Technology Sydney\n",
    "</small></p>\n",
    "<p>\n",
    "<a href=\"mailto:Erik.Schlogl@uts.edu.au?Subject=37004 IRCRM\" target=\"_blank\">\n",
    "<small><font color=MediumVioletRed>Erik.Schlogl@uts.edu.au</font></small></a>\n",
    "</p>\n",
    "<hr style=\"height:5px;border:none;color:#333;background-color:#333;\" />\n"
   ]
  },
  {
   "cell_type": "markdown",
   "metadata": {},
   "source": [
    "# Import package\n"
   ]
  },
  {
   "cell_type": "code",
   "execution_count": 1,
   "metadata": {},
   "outputs": [],
   "source": [
    "import numpy as np\n",
    "from scipy.optimize import fsolve\n",
    "from scipy.stats import norm\n",
    "import matplotlib.pyplot as plt\n",
    "from scipy.integrate import quad"
   ]
  },
  {
   "cell_type": "markdown",
   "metadata": {},
   "source": [
    "Suppose that the dynamics of the default-free interest rate term structure are given by a one-factor Gaussian HJM model with volatility parameter $\\sigma=0.025$ and mean reversion $a=0.08$. The current term structure is flat at 5\\% continuously compounded for all maturities. Suppose further that the CDS spreads (paid annually, in arrears, in basis points) for a corporate entity <B>A</B> are deterministic and given by the following `pandas` dataframe:\n"
   ]
  },
  {
   "cell_type": "code",
   "execution_count": 2,
   "metadata": {},
   "outputs": [
    {
     "data": {
      "text/html": [
       "<div>\n",
       "<style scoped>\n",
       "    .dataframe tbody tr th:only-of-type {\n",
       "        vertical-align: middle;\n",
       "    }\n",
       "\n",
       "    .dataframe tbody tr th {\n",
       "        vertical-align: top;\n",
       "    }\n",
       "\n",
       "    .dataframe thead th {\n",
       "        text-align: right;\n",
       "    }\n",
       "</style>\n",
       "<table border=\"1\" class=\"dataframe\">\n",
       "  <thead>\n",
       "    <tr style=\"text-align: right;\">\n",
       "      <th></th>\n",
       "      <th>Maturity in years</th>\n",
       "      <th>Spread</th>\n",
       "    </tr>\n",
       "  </thead>\n",
       "  <tbody>\n",
       "    <tr>\n",
       "      <th>0</th>\n",
       "      <td>1</td>\n",
       "      <td>120</td>\n",
       "    </tr>\n",
       "    <tr>\n",
       "      <th>1</th>\n",
       "      <td>2</td>\n",
       "      <td>130</td>\n",
       "    </tr>\n",
       "    <tr>\n",
       "      <th>2</th>\n",
       "      <td>3</td>\n",
       "      <td>140</td>\n",
       "    </tr>\n",
       "    <tr>\n",
       "      <th>3</th>\n",
       "      <td>5</td>\n",
       "      <td>150</td>\n",
       "    </tr>\n",
       "    <tr>\n",
       "      <th>4</th>\n",
       "      <td>10</td>\n",
       "      <td>170</td>\n",
       "    </tr>\n",
       "  </tbody>\n",
       "</table>\n",
       "</div>"
      ],
      "text/plain": [
       "   Maturity in years  Spread\n",
       "0                  1     120\n",
       "1                  2     130\n",
       "2                  3     140\n",
       "3                  5     150\n",
       "4                 10     170"
      ]
     },
     "execution_count": 2,
     "metadata": {},
     "output_type": "execute_result"
    }
   ],
   "source": [
    "import pandas as pd\n",
    "df = pd.DataFrame([{\"Maturity in years\":1,\"Spread\":120},{\"Maturity in years\":2,\"Spread\":130},{\"Maturity in years\":3,\"Spread\":140},{\"Maturity in years\":5,\"Spread\":150},{\"Maturity in years\":10,\"Spread\":170}])\n",
    "df"
   ]
  },
  {
   "cell_type": "markdown",
   "metadata": {},
   "source": [
    "Assume that default, recovery in default, and default-free interest rates are mutually independent. Expected recovery is 40\\%. You may ignore accrued interest in the case of default. You may assume loglinear interpolation of risk-neutral probabilities of survival where necessary.\n",
    "\n",
    "Entity <B>A</B> approaches a bank of negligible default risk, with the wish of <B>A</B> to enter into a 10-year interest swap, where <B>A</B> pays floating and receives fixed annually, with simple compounding.\n",
    "\n",
    "<H2>Task 1:</H2>\n",
    "Taking into account counterparty credit risk, what is the level of the fixed coupon on this swap, which results in a zero initial mark-to-market value of the swap? If some of the above assumptions are relaxed, in which case would the bank be exposed to \"wrong-way risk\" in this transaction? <I>(5 marks)</I>\n"
   ]
  },
  {
   "cell_type": "code",
   "execution_count": 3,
   "metadata": {},
   "outputs": [
    {
     "name": "stdout",
     "output_type": "stream",
     "text": [
      "   Maturity in years  Spread  Probability of survival\n",
      "0                  1     120                 0.980392\n",
      "1                  2     130                 0.957919\n",
      "2                  3     140                 0.932673\n",
      "3                  5     150                 0.882502\n",
      "4                 10     170                 0.749129\n"
     ]
    }
   ],
   "source": [
    "def probability_of_survival(df_spread):\n",
    "    df = pd.DataFrame(df_spread)\n",
    "    df['Probability of survival'] = np.zeros(len(df_spread))\n",
    "    r = 0.05\n",
    "    c = 0.4\n",
    "    def prob_interpolation(t, index=None, x=None):\n",
    "        if t == 0:\n",
    "            return 1\n",
    "        partial_df = df.iloc[:index+1,:] if index is not None else pd.DataFrame(df)\n",
    "        if x is not None:\n",
    "            partial_df.iloc[index, 2] = x\n",
    "        if t in partial_df.iloc[:,0].values:\n",
    "            return partial_df[partial_df[\"Maturity in years\"]==t]['Probability of survival'].values[0]\n",
    "        T1 = max(list(filter(lambda x: x < t, partial_df.iloc[:,0]))+[0])\n",
    "        T2 = min(list(filter(lambda x: x >= t, partial_df.iloc[:,0])))\n",
    "        P1 = partial_df[partial_df[\"Maturity in years\"]==T1]['Probability of survival'].values[0] if T1 != 0 else 1\n",
    "        P2 = partial_df[partial_df[\"Maturity in years\"]==T2]['Probability of survival'].values[0]\n",
    "        return P1*(P2/P1)**((t-T1)/(T2-T1))\n",
    "    def probability_survival_solver(x, index):\n",
    "        sk = df_spread.iloc[index, 1]/10000\n",
    "        T = df_spread.iloc[index, 0]\n",
    "        Ts = np.arange(1, T+1)\n",
    "        Bs = np.array(list(map(lambda t: np.exp(-r*t), Ts)))\n",
    "        Ps = np.array(list(map(lambda t: prob_interpolation(t, index, x), Ts)))\n",
    "        return sk*np.sum(Bs*Ps) - (1-c)*np.sum([np.exp(-r*t)*(prob_interpolation(t-1, index, x)-prob_interpolation(t, index, x)) for t in Ts])\n",
    "    for i in range(len(df_spread)):\n",
    "        df.iloc[i, 2] = fsolve(probability_survival_solver, 0.5, args=(i))[0]\n",
    "    print(df)\n",
    "    return prob_interpolation\n",
    "prob_calc = probability_of_survival(df)"
   ]
  },
  {
   "cell_type": "code",
   "execution_count": 4,
   "metadata": {},
   "outputs": [
    {
     "name": "stdout",
     "output_type": "stream",
     "text": [
      "Level of the spread on this swap: -0.000814374936289219\n",
      "Level of the fixed coupon on this swap: 0.05045672143973482\n"
     ]
    }
   ],
   "source": [
    "def task_1(prob_interpolation):\n",
    "    r = 0.05\n",
    "    c = 0.4\n",
    "    T = 10\n",
    "    Ts = np.arange(1, T+1)\n",
    "    Bs = np.array(list(map(lambda t: np.exp(-r*t), Ts)))\n",
    "    omega = (1-Bs[-1])/np.sum(Bs)\n",
    "    Ps = np.array(list(map(lambda t: prob_interpolation(t), np.arange(0,T+1))))\n",
    "    Ps_diff = np.diff(Ps[::-1])[::-1][:-1]\n",
    "    mean_reversion = 0.08\n",
    "    volatility_level = 0.025\n",
    "\n",
    "    def bond_calculator(t_trans, T_trans, z=None, ret=None):\n",
    "        BT = np.exp(-r*T_trans)\n",
    "        Bt = np.exp(-r*t_trans)\n",
    "        A = (BT/Bt)*np.exp(-np.exp(-2*(t_trans+T_trans)*mean_reversion)*(np.exp(mean_reversion*t_trans)-1)*(volatility_level**2)*(np.exp(2*mean_reversion*t_trans)+np.exp(3*mean_reversion*t_trans)-np.exp(2*mean_reversion*T_trans)-4*np.exp(mean_reversion*(2*t_trans+T_trans))+3*np.exp(mean_reversion*(t_trans+2*T_trans)))/(4*(mean_reversion**3)))\n",
    "        B = (np.exp(-mean_reversion*t_trans)-np.exp(-mean_reversion*T_trans))/mean_reversion\n",
    "        if ret:\n",
    "            return A,B\n",
    "        return A*np.exp(-B*z)\n",
    "    \n",
    "    def short_rate_solver(z, lk, payments_dates):\n",
    "        Bs = list(map(lambda x:bond_calculator(payments_dates[0], x, z),payments_dates[1:]))\n",
    "        BTn = 1-lk*sum(Bs)\n",
    "        A,B = bond_calculator(payments_dates[0], payments_dates[-1], ret=True)\n",
    "        return z+np.log(BTn/A)/B\n",
    "\n",
    "    def bond_option_info_calculator(Ti_trans, z, T0_trans):\n",
    "        B_star = bond_calculator(T0_trans, Ti_trans, z)\n",
    "        BTi = np.exp(-r*Ti_trans)\n",
    "        BT0 = np.exp(-r*T0_trans)\n",
    "        chi = np.exp(-mean_reversion*Ti_trans)*(volatility_level**2)*(np.exp(mean_reversion*T0_trans)-np.exp(-mean_reversion*T0_trans))*((np.exp(mean_reversion*(T0_trans-Ti_trans)/2)-np.exp(-mean_reversion*(T0_trans-Ti_trans)/2))**2)/(2*(mean_reversion**3))\n",
    "        h1 = (np.log(BTi/(BT0*B_star))+chi/2)/np.sqrt(chi)\n",
    "        h2 = (np.log(BTi/(BT0*B_star))-chi/2)/np.sqrt(chi)\n",
    "        return [BT0*B_star*norm.cdf(-h2)-BTi*norm.cdf(-h1)]\n",
    "    \n",
    "    def value_calculator(z, lk, payments_dates):\n",
    "        bond_info = list(map(lambda x: bond_option_info_calculator(x, z, payments_dates[0]), payments_dates[1:]))\n",
    "        Cs = list(map(lambda x: x[0], bond_info))\n",
    "        return Cs[-1]+lk*np.sum(Cs)\n",
    "    \n",
    "    def spread_solver(s):\n",
    "        lk = omega + s[0]\n",
    "        zs = list(map(lambda x: fsolve(short_rate_solver, 0.1, args=(lk, np.arange(x, T+1)))[0], Ts[:-1]))\n",
    "        Vs = [value_calculator(zs[x], lk, np.arange(Ts[x], T+1)) for x in range(len(zs))]\n",
    "        return (1-c)*np.sum(Vs*Ps_diff)+s[0]*sum(Bs)\n",
    "    spread = fsolve(spread_solver, 0)[0]\n",
    "    return spread, omega+spread\n",
    "spread, fixed_rate = task_1(prob_calc)\n",
    "print('Level of the spread on this swap:',float(spread))\n",
    "print('Level of the fixed coupon on this swap:',float(fixed_rate))"
   ]
  },
  {
   "cell_type": "markdown",
   "metadata": {},
   "source": [
    "As we have:\n",
    "\n",
    "$$\n",
    "EE_{t_i} = E_{t_i}[max(0,V_{t_i})] \\\\\n",
    "=E_{t_i}[max(0,1-B(t_i,t_N)-l_k \\sum_{j=i+1}^{N}B(t_i,t_j))]\n",
    "$$\n",
    "\n",
    "Then, the lower the interest payment (the higher the interest rate), the more credit risk exposure of the bank must face. Furthurmore, the right way risk is when the more credit risk exposure, the less it likely to be defaulted. Hence, the negative correlation between the default risk and the interest rate is the right way risk. Since then, the positive correlation between the default risk and the interest rate is the wrong way risk\n"
   ]
  },
  {
   "cell_type": "markdown",
   "metadata": {},
   "source": [
    "<H2>Task 2:</H2>\n",
    "Suppose the bank has an existing swap with the same counterparty, where the bank pays floating and receives fixed annually, with simple compounding. This swap has exactly three years left to run, and the fixed leg was set at 4.75% (simple compounding).\n",
    "\n",
    "1. In this situation, what is the answer to Task 1 if there is no netting agreement in place? If there is a netting agreement in place? <I>(5 marks)</I>\n",
    "2. Suppose further that the market price interest rate risk relevant in this context is constant $\\sigma_{\\hat H}=0.15$. With and without netting, determine the potential future exposure (PFE) for the bank for a one-year time horizon, with 99\\% confidence level, just before and just after entering into the 10-year swap with <B>A</B>. What is the impact of the market price of risk on the PFE?\n",
    "   <I>(5 marks)</I>\n"
   ]
  },
  {
   "cell_type": "code",
   "execution_count": 5,
   "metadata": {},
   "outputs": [
    {
     "name": "stdout",
     "output_type": "stream",
     "text": [
      "Level of the no netting spread on this swap: -0.0008531057862734287\n",
      "Level of the no netting fixed coupon on this swap: 0.05041799058975061\n",
      "Level of the netting spread on this swap: -0.0007593511806403688\n",
      "Level of the netting fixed coupon on this swap: 0.05051174519538367\n"
     ]
    }
   ],
   "source": [
    "def task_2_part_1(prob_interpolation, isNetting):\n",
    "    r = 0.05\n",
    "    c = 0.4\n",
    "    T1 = 10\n",
    "    T2 = 3\n",
    "    Ts1 = np.arange(1, T1+1)\n",
    "    Ts2 = np.arange(1, T2+1)\n",
    "    Bs = np.array(list(map(lambda t: np.exp(-r*t), Ts1)))\n",
    "    omega = (1-Bs[-1])/np.sum(Bs)\n",
    "    prev_rate = 0.0475\n",
    "    Ps = np.array(list(map(lambda t: prob_interpolation(t), np.arange(0,T1+1))))\n",
    "    Ps_diff = np.diff(Ps[::-1])[::-1]\n",
    "    Ps_diff = Ps_diff[:-1]\n",
    "    mean_reversion = 0.08\n",
    "    volatility_level = 0.025\n",
    "\n",
    "    def bond_calculator(t_trans, T_trans, z=None, ret=None):\n",
    "        BT = np.exp(-r*T_trans)\n",
    "        Bt = np.exp(-r*t_trans)\n",
    "        A = (BT/Bt)*np.exp(-np.exp(-2*(t_trans+T_trans)*mean_reversion)*(np.exp(mean_reversion*t_trans)-1)*(volatility_level**2)*(np.exp(2*mean_reversion*t_trans)+np.exp(3*mean_reversion*t_trans)-np.exp(2*mean_reversion*T_trans)-4*np.exp(mean_reversion*(2*t_trans+T_trans))+3*np.exp(mean_reversion*(t_trans+2*T_trans)))/(4*(mean_reversion**3)))\n",
    "        B = (np.exp(-mean_reversion*t_trans)-np.exp(-mean_reversion*T_trans))/mean_reversion\n",
    "        if ret:\n",
    "            return A,B\n",
    "        return A*np.exp(-B*z)\n",
    "    \n",
    "    def short_rate_solver(z, lk, payments_dates, isNetting=False):\n",
    "        Bs = list(map(lambda x:bond_calculator(payments_dates[0], x, z),payments_dates[1:]))\n",
    "        Bs = np.array(Bs)\n",
    "        weight = [lk]*len(Bs)\n",
    "        weight = np.array(weight)\n",
    "        BTn = None\n",
    "        if isNetting:\n",
    "            if payments_dates[0]==1:\n",
    "                weight[0] -= prev_rate\n",
    "                weight[1] -= prev_rate + 1\n",
    "                BTn = -weight @ Bs\n",
    "            elif payments_dates[0]==2:\n",
    "                weight[0] -= prev_rate + 1\n",
    "                BTn = -weight @ Bs\n",
    "        else:\n",
    "            BTn = 1-weight @ Bs\n",
    "        A,B = bond_calculator(payments_dates[0], payments_dates[-1], ret=True)\n",
    "        return z+np.log(BTn/A)/B\n",
    "\n",
    "    def bond_option_info_calculator(Ti_trans, z, T0_trans, isCall):\n",
    "        B_star = bond_calculator(T0_trans, Ti_trans, z)\n",
    "        BTi = np.exp(-r*Ti_trans)\n",
    "        BT0 = np.exp(-r*T0_trans)\n",
    "        chi = np.exp(-mean_reversion*Ti_trans)*(volatility_level**2)*(np.exp(mean_reversion*T0_trans)-np.exp(-mean_reversion*T0_trans))*((np.exp(mean_reversion*(T0_trans-Ti_trans)/2)-np.exp(-mean_reversion*(T0_trans-Ti_trans)/2))**2)/(2*(mean_reversion**3))\n",
    "        h1 = (np.log(BTi/(BT0*B_star))+chi/2)/np.sqrt(chi)\n",
    "        h2 = (np.log(BTi/(BT0*B_star))-chi/2)/np.sqrt(chi)\n",
    "        if isCall:\n",
    "            return [BTi*norm.cdf(h1)-BT0*B_star*norm.cdf(h2), B_star]\n",
    "        else:\n",
    "            return [BT0*B_star*norm.cdf(-h2)-BTi*norm.cdf(-h1), B_star]\n",
    "    \n",
    "    def value_calculator(z, lk, payments_dates, isCall, isNetting=False):\n",
    "        Cs = list(map(lambda x: bond_option_info_calculator(x, z, payments_dates[0], isCall)[0], payments_dates[1:]))\n",
    "        Cs = np.array(Cs)\n",
    "        weight = [lk]*len(Cs)\n",
    "        if isNetting:\n",
    "            if payments_dates[0]==1:\n",
    "                weight[0] -= prev_rate\n",
    "                weight[1] -= prev_rate + 1\n",
    "            elif payments_dates[0]==2:\n",
    "                weight[0] -= prev_rate + 1\n",
    "        weight[-1] += 1\n",
    "        weight = np.array(weight)\n",
    "        return weight.dot(Cs)\n",
    "    \n",
    "    def spread_solver_no_netting(s):\n",
    "        zs = list(map(lambda x: fsolve(short_rate_solver, 0.1, args=(prev_rate, np.arange(x, T2+1)))[0], Ts2[:-1]))\n",
    "        Vs = [value_calculator(zs[x], prev_rate, np.arange(Ts2[x], T2+1), True) for x in range(len(zs))]\n",
    "        L2 = (1-c)*np.sum(Vs*Ps_diff[:T2-1])\n",
    "        lk = omega + s[0]\n",
    "        zs = list(map(lambda x: fsolve(short_rate_solver, 0.1, args=(lk, np.arange(x, T1+1)))[0], Ts1[:-1]))\n",
    "        Vs = [value_calculator(zs[x], lk, np.arange(Ts1[x], T1+1), False) for x in range(len(zs))]\n",
    "        L1 = (1-c)*np.sum(Vs*Ps_diff)\n",
    "        return L1+L2+s[0]*sum(Bs)\n",
    "    \n",
    "    def spread_solver_netting(s):\n",
    "        lk = omega + s[0]\n",
    "        zs = list(map(lambda x: fsolve(short_rate_solver, 0.1, args=(lk, np.arange(x, T1+1), True if x<3 else False))[0], Ts1[:-1]))\n",
    "        Vs = [value_calculator(zs[x], lk, np.arange(Ts1[x], T1+1), False, True) for x in range(len(zs))]\n",
    "        return (1-c)*np.sum(Vs*Ps_diff)+s[0]*sum(Bs)\n",
    "    spread = 0\n",
    "    if isNetting:\n",
    "        spread = fsolve(spread_solver_netting, -0.5)[0]\n",
    "    else:\n",
    "        spread = fsolve(spread_solver_no_netting, -0.5)[0]\n",
    "    # if isNetting:\n",
    "    #     lk = omega\n",
    "    #     zs = np.linspace(-0.05, 1, 100)\n",
    "    #     Vs = []\n",
    "    #     for z in zs:\n",
    "    #         Cs = list(map(lambda x: bond_option_info_calculator(x, z, 1, True)[1], np.arange(2,11)))\n",
    "    #         Cs = np.array(Cs)\n",
    "    #         weight = [lk]*len(Cs)\n",
    "    #         weight[0] -= prev_rate\n",
    "    #         weight[1] -= prev_rate + 1\n",
    "    #         weight[-1] += 1\n",
    "    #         weight = np.array(weight)\n",
    "    #         Vs.append(-weight.dot(Cs))\n",
    "    #     plt.figure(figsize=(15, 5))\n",
    "    #     plt.plot(zs, Vs)\n",
    "    #     plt.xlabel('z')\n",
    "    #     plt.ylabel('value')\n",
    "    #     plt.title('Value of the swap at T1')\n",
    "    #     plt.grid()\n",
    "    #     plt.show()\n",
    "    #     Vs = []\n",
    "    #     for z in zs:\n",
    "    #         Cs = list(map(lambda x: bond_option_info_calculator(x, z, 2, True)[1], np.arange(3,11)))\n",
    "    #         Cs = np.array(Cs)\n",
    "    #         weight = [lk]*len(Cs)\n",
    "    #         weight[0] -= prev_rate + 1\n",
    "    #         weight[-1] += 1\n",
    "    #         weight = np.array(weight)\n",
    "    #         Vs.append(-weight.dot(Cs))\n",
    "    #     plt.figure(figsize=(15, 5))\n",
    "    #     plt.plot(zs, Vs)\n",
    "    #     plt.xlabel('z')\n",
    "    #     plt.ylabel('value')\n",
    "    #     plt.title('Value of the swap at T2')\n",
    "    #     plt.grid()\n",
    "    #     plt.show()\n",
    "    return spread, omega+spread\n",
    "spread, fixed_rate_no_net = task_2_part_1(prob_calc, False)\n",
    "print('Level of the no netting spread on this swap:',float(spread))\n",
    "print('Level of the no netting fixed coupon on this swap:',float(fixed_rate_no_net))\n",
    "spread, fixed_rate_netting = task_2_part_1(prob_calc, True)\n",
    "print('Level of the netting spread on this swap:',float(spread))\n",
    "print('Level of the netting fixed coupon on this swap:',float(fixed_rate_netting))"
   ]
  },
  {
   "cell_type": "code",
   "execution_count": 8,
   "metadata": {},
   "outputs": [
    {
     "name": "stdout",
     "output_type": "stream",
     "text": [
      "PFE of before entering swap: 0.08991747512787018\n",
      "PFE of the no netting after entering swap: 0.28499445970802284\n",
      "PFE of the netting after entering swap: 0.1749174808649816\n"
     ]
    }
   ],
   "source": [
    "def task_2_part_2(fixed_rate=None, isNetting=False, sigma_H = 0.15):\n",
    "    r = 0.05\n",
    "    T1 = 10\n",
    "    T2 = 3\n",
    "    alpha = 1-0.99\n",
    "    prev_rate = 0.0475\n",
    "    mean_reversion = 0.08\n",
    "    volatility_level = 0.025\n",
    "\n",
    "    def bond_threshold(Ti_trans, T0_trans, isPayer):\n",
    "        BTi = np.exp(-r*Ti_trans)\n",
    "        BT0 = np.exp(-r*T0_trans)\n",
    "        # chi = np.exp(-mean_reversion*Ti_trans)*(volatility_level**2)*(np.exp(mean_reversion*T0_trans)-np.exp(-mean_reversion*T0_trans))*((np.exp(mean_reversion*(T0_trans-Ti_trans)/2)-np.exp(-mean_reversion*(T0_trans-Ti_trans)/2))**2)/(2*(mean_reversion**3))\n",
    "        chi = (-1+np.exp(2*mean_reversion*T0_trans))*((np.exp(-mean_reversion*T0_trans)-np.exp(-mean_reversion*Ti_trans))**2)*(volatility_level**2)/(2*mean_reversion**3)\n",
    "        chi_trans = np.exp(-mean_reversion*(2*T0_trans+Ti_trans))*(-1+np.exp(mean_reversion*T0_trans))*(np.exp(mean_reversion*T0_trans)-np.exp(mean_reversion*Ti_trans))*volatility_level*(-volatility_level+np.exp(mean_reversion*T0_trans)*(volatility_level+2*mean_reversion*sigma_H))/(2*mean_reversion**3)\n",
    "        return (BTi/BT0)*np.exp(chi_trans-0.5*chi+norm.ppf(1-alpha if isPayer else alpha)*np.sqrt(chi))\n",
    "\n",
    "    B_threshold = list(map(lambda x: bond_threshold(x ,1, True), np.arange(2,T2+1)))\n",
    "    swap_rate = (1-B_threshold[-1])/sum(B_threshold)\n",
    "    PFE1 = (prev_rate-swap_rate)*sum(B_threshold)\n",
    "    if fixed_rate is None:\n",
    "        return PFE1\n",
    "    B_threshold = list(map(lambda x: bond_threshold(x, 1, False), np.arange(2,T1+1)))\n",
    "    swap_rate = (1-B_threshold[-1])/sum(B_threshold)\n",
    "    PFE2 = (swap_rate-fixed_rate)*sum(B_threshold)\n",
    "    if isNetting:\n",
    "        B_threshold = list(map(lambda x: bond_threshold(x ,1, False), np.arange(2,T2+1)))\n",
    "        swap_rate = (1-B_threshold[-1])/sum(B_threshold)\n",
    "        PFE1 = (prev_rate-swap_rate)*sum(B_threshold)\n",
    "        return PFE1+PFE2\n",
    "    else:\n",
    "        return max(PFE1,PFE2)\n",
    "print('PFE of before entering swap:',float(task_2_part_2()))\n",
    "print('PFE of the no netting after entering swap:',float(task_2_part_2(fixed_rate_no_net, False)))\n",
    "print('PFE of the netting after entering swap:',float(task_2_part_2(fixed_rate_netting, True)))"
   ]
  },
  {
   "cell_type": "code",
   "execution_count": 7,
   "metadata": {},
   "outputs": [
    {
     "data": {
      "image/png": "[encoded data removed]",
      "text/plain": [
       "<Figure size 1500x500 with 1 Axes>"
      ]
     },
     "metadata": {},
     "output_type": "display_data"
    }
   ],
   "source": [
    "sigma_Hs = np.linspace(0, 1, 1000)\n",
    "PFE_before = list(map(lambda x: task_2_part_2(sigma_H=x), sigma_Hs))\n",
    "PFE_after_no_net = list(map(lambda x: task_2_part_2(fixed_rate_no_net, False, x), sigma_Hs))\n",
    "PFE_after_net = list(map(lambda x: task_2_part_2(fixed_rate_netting, True, x), sigma_Hs))\n",
    "plt.figure(figsize=(15, 5))\n",
    "plt.plot(sigma_Hs, PFE_before, label='PFE before entering swap')\n",
    "plt.plot(sigma_Hs, PFE_after_no_net, label='PFE after entering swap no netting')\n",
    "plt.plot(sigma_Hs, PFE_after_net, label='PFE after entering swap netting')\n",
    "plt.xlabel('sigma_H')\n",
    "plt.ylabel('PFE')\n",
    "plt.title('PFE depending on sigma_H')\n",
    "plt.legend()\n",
    "plt.grid()\n",
    "plt.show()"
   ]
  },
  {
   "cell_type": "markdown",
   "metadata": {},
   "source": [
    "When increasing the $\\sigma_H$, the mean of the bonds decrease, which increase the value of the floating payments.\n",
    "\n",
    "- In the case before entering into a new swap, the bank is in the position in which it is required to pay float. Since the value of the float increase, the value of the swap with respect to the bank is decrease, which decrease the potential future exposure to the credit risk.\n",
    "- In the case after entering into a new swap with no netting, the bank is in the position in which it is required to pay float for the old swap and receive float from the new swap. Since the value of the PFE of the new swap tends to be higher the value of the PFE of the old swap, the PFE of the bank tends to be influenced by the new swap, which in the position of receiving float. Since then, when the float increase, the value of the swap with respect to the bank is increase, which increase the potential future exposure to the credit risk.\n",
    "- In the case after entering into a new swap with netting, the banks floating position is receiving (from 4 years from now to maturity). Since then, when the float increase, the value of the swap with respect to the bank is increase, which increase the potential future exposure to the credit risk."
   ]
  }
 ],
 "metadata": {
  "kernelspec": {
   "display_name": "venv",
   "language": "python",
   "name": "python3"
  },
  "language_info": {
   "codemirror_mode": {
    "name": "ipython",
    "version": 3
   },
   "file_extension": ".py",
   "mimetype": "text/x-python",
   "name": "python",
   "nbconvert_exporter": "python",
   "pygments_lexer": "ipython3",
   "version": "3.12.3"
  }
 },
 "nbformat": 4,
 "nbformat_minor": 4
}
